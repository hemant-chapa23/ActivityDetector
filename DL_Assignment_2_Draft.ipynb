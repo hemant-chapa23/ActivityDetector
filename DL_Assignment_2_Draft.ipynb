{
  "nbformat": 4,
  "nbformat_minor": 0,
  "metadata": {
    "colab": {
      "provenance": [],
      "mount_file_id": "1KgtblJaG13aTcs3-gtt4m25jBz--ht92",
      "authorship_tag": "ABX9TyNKNw5+xFyyQXfNOuZG2Ug5",
      "include_colab_link": true
    },
    "kernelspec": {
      "name": "python3",
      "display_name": "Python 3"
    },
    "language_info": {
      "name": "python"
    },
    "gpuClass": "standard",
    "widgets": {
      "application/vnd.jupyter.widget-state+json": {
        "9c7278f154224068aa57cb538bb1eb2d": {
          "model_module": "@jupyter-widgets/controls",
          "model_name": "HBoxModel",
          "model_module_version": "1.5.0",
          "state": {
            "_dom_classes": [],
            "_model_module": "@jupyter-widgets/controls",
            "_model_module_version": "1.5.0",
            "_model_name": "HBoxModel",
            "_view_count": null,
            "_view_module": "@jupyter-widgets/controls",
            "_view_module_version": "1.5.0",
            "_view_name": "HBoxView",
            "box_style": "",
            "children": [
              "IPY_MODEL_f11b91bf77ac4fa58b639f5914bdfc40",
              "IPY_MODEL_c84ee1ebe1954fa6ae820d2ac202b368",
              "IPY_MODEL_1c0390fd119848b4b4c4723400f0fdeb"
            ],
            "layout": "IPY_MODEL_cf95541542314eb3ab9d052776e6148b"
          }
        },
        "f11b91bf77ac4fa58b639f5914bdfc40": {
          "model_module": "@jupyter-widgets/controls",
          "model_name": "HTMLModel",
          "model_module_version": "1.5.0",
          "state": {
            "_dom_classes": [],
            "_model_module": "@jupyter-widgets/controls",
            "_model_module_version": "1.5.0",
            "_model_name": "HTMLModel",
            "_view_count": null,
            "_view_module": "@jupyter-widgets/controls",
            "_view_module_version": "1.5.0",
            "_view_name": "HTMLView",
            "description": "",
            "description_tooltip": null,
            "layout": "IPY_MODEL_77b4835a8ffa4d01932bf6b81f81d900",
            "placeholder": "​",
            "style": "IPY_MODEL_1292a048bf824f3192e6ab506ce510ad",
            "value": "  1%"
          }
        },
        "c84ee1ebe1954fa6ae820d2ac202b368": {
          "model_module": "@jupyter-widgets/controls",
          "model_name": "FloatProgressModel",
          "model_module_version": "1.5.0",
          "state": {
            "_dom_classes": [],
            "_model_module": "@jupyter-widgets/controls",
            "_model_module_version": "1.5.0",
            "_model_name": "FloatProgressModel",
            "_view_count": null,
            "_view_module": "@jupyter-widgets/controls",
            "_view_module_version": "1.5.0",
            "_view_name": "ProgressView",
            "bar_style": "danger",
            "description": "",
            "description_tooltip": null,
            "layout": "IPY_MODEL_cbcc6bf068ca4916a1976f77196a379c",
            "max": 716,
            "min": 0,
            "orientation": "horizontal",
            "style": "IPY_MODEL_3102f823fa444e0a91a7e8b393f89979",
            "value": 6
          }
        },
        "1c0390fd119848b4b4c4723400f0fdeb": {
          "model_module": "@jupyter-widgets/controls",
          "model_name": "HTMLModel",
          "model_module_version": "1.5.0",
          "state": {
            "_dom_classes": [],
            "_model_module": "@jupyter-widgets/controls",
            "_model_module_version": "1.5.0",
            "_model_name": "HTMLModel",
            "_view_count": null,
            "_view_module": "@jupyter-widgets/controls",
            "_view_module_version": "1.5.0",
            "_view_name": "HTMLView",
            "description": "",
            "description_tooltip": null,
            "layout": "IPY_MODEL_3174a2fefc7d402e884318122e9a32ae",
            "placeholder": "​",
            "style": "IPY_MODEL_85bca231ef614330a0b50accf7229fb8",
            "value": " 6/716 [00:06&lt;12:45,  1.08s/it]"
          }
        },
        "cf95541542314eb3ab9d052776e6148b": {
          "model_module": "@jupyter-widgets/base",
          "model_name": "LayoutModel",
          "model_module_version": "1.2.0",
          "state": {
            "_model_module": "@jupyter-widgets/base",
            "_model_module_version": "1.2.0",
            "_model_name": "LayoutModel",
            "_view_count": null,
            "_view_module": "@jupyter-widgets/base",
            "_view_module_version": "1.2.0",
            "_view_name": "LayoutView",
            "align_content": null,
            "align_items": null,
            "align_self": null,
            "border": null,
            "bottom": null,
            "display": null,
            "flex": null,
            "flex_flow": null,
            "grid_area": null,
            "grid_auto_columns": null,
            "grid_auto_flow": null,
            "grid_auto_rows": null,
            "grid_column": null,
            "grid_gap": null,
            "grid_row": null,
            "grid_template_areas": null,
            "grid_template_columns": null,
            "grid_template_rows": null,
            "height": null,
            "justify_content": null,
            "justify_items": null,
            "left": null,
            "margin": null,
            "max_height": null,
            "max_width": null,
            "min_height": null,
            "min_width": null,
            "object_fit": null,
            "object_position": null,
            "order": null,
            "overflow": null,
            "overflow_x": null,
            "overflow_y": null,
            "padding": null,
            "right": null,
            "top": null,
            "visibility": null,
            "width": null
          }
        },
        "77b4835a8ffa4d01932bf6b81f81d900": {
          "model_module": "@jupyter-widgets/base",
          "model_name": "LayoutModel",
          "model_module_version": "1.2.0",
          "state": {
            "_model_module": "@jupyter-widgets/base",
            "_model_module_version": "1.2.0",
            "_model_name": "LayoutModel",
            "_view_count": null,
            "_view_module": "@jupyter-widgets/base",
            "_view_module_version": "1.2.0",
            "_view_name": "LayoutView",
            "align_content": null,
            "align_items": null,
            "align_self": null,
            "border": null,
            "bottom": null,
            "display": null,
            "flex": null,
            "flex_flow": null,
            "grid_area": null,
            "grid_auto_columns": null,
            "grid_auto_flow": null,
            "grid_auto_rows": null,
            "grid_column": null,
            "grid_gap": null,
            "grid_row": null,
            "grid_template_areas": null,
            "grid_template_columns": null,
            "grid_template_rows": null,
            "height": null,
            "justify_content": null,
            "justify_items": null,
            "left": null,
            "margin": null,
            "max_height": null,
            "max_width": null,
            "min_height": null,
            "min_width": null,
            "object_fit": null,
            "object_position": null,
            "order": null,
            "overflow": null,
            "overflow_x": null,
            "overflow_y": null,
            "padding": null,
            "right": null,
            "top": null,
            "visibility": null,
            "width": null
          }
        },
        "1292a048bf824f3192e6ab506ce510ad": {
          "model_module": "@jupyter-widgets/controls",
          "model_name": "DescriptionStyleModel",
          "model_module_version": "1.5.0",
          "state": {
            "_model_module": "@jupyter-widgets/controls",
            "_model_module_version": "1.5.0",
            "_model_name": "DescriptionStyleModel",
            "_view_count": null,
            "_view_module": "@jupyter-widgets/base",
            "_view_module_version": "1.2.0",
            "_view_name": "StyleView",
            "description_width": ""
          }
        },
        "cbcc6bf068ca4916a1976f77196a379c": {
          "model_module": "@jupyter-widgets/base",
          "model_name": "LayoutModel",
          "model_module_version": "1.2.0",
          "state": {
            "_model_module": "@jupyter-widgets/base",
            "_model_module_version": "1.2.0",
            "_model_name": "LayoutModel",
            "_view_count": null,
            "_view_module": "@jupyter-widgets/base",
            "_view_module_version": "1.2.0",
            "_view_name": "LayoutView",
            "align_content": null,
            "align_items": null,
            "align_self": null,
            "border": null,
            "bottom": null,
            "display": null,
            "flex": null,
            "flex_flow": null,
            "grid_area": null,
            "grid_auto_columns": null,
            "grid_auto_flow": null,
            "grid_auto_rows": null,
            "grid_column": null,
            "grid_gap": null,
            "grid_row": null,
            "grid_template_areas": null,
            "grid_template_columns": null,
            "grid_template_rows": null,
            "height": null,
            "justify_content": null,
            "justify_items": null,
            "left": null,
            "margin": null,
            "max_height": null,
            "max_width": null,
            "min_height": null,
            "min_width": null,
            "object_fit": null,
            "object_position": null,
            "order": null,
            "overflow": null,
            "overflow_x": null,
            "overflow_y": null,
            "padding": null,
            "right": null,
            "top": null,
            "visibility": null,
            "width": null
          }
        },
        "3102f823fa444e0a91a7e8b393f89979": {
          "model_module": "@jupyter-widgets/controls",
          "model_name": "ProgressStyleModel",
          "model_module_version": "1.5.0",
          "state": {
            "_model_module": "@jupyter-widgets/controls",
            "_model_module_version": "1.5.0",
            "_model_name": "ProgressStyleModel",
            "_view_count": null,
            "_view_module": "@jupyter-widgets/base",
            "_view_module_version": "1.2.0",
            "_view_name": "StyleView",
            "bar_color": null,
            "description_width": ""
          }
        },
        "3174a2fefc7d402e884318122e9a32ae": {
          "model_module": "@jupyter-widgets/base",
          "model_name": "LayoutModel",
          "model_module_version": "1.2.0",
          "state": {
            "_model_module": "@jupyter-widgets/base",
            "_model_module_version": "1.2.0",
            "_model_name": "LayoutModel",
            "_view_count": null,
            "_view_module": "@jupyter-widgets/base",
            "_view_module_version": "1.2.0",
            "_view_name": "LayoutView",
            "align_content": null,
            "align_items": null,
            "align_self": null,
            "border": null,
            "bottom": null,
            "display": null,
            "flex": null,
            "flex_flow": null,
            "grid_area": null,
            "grid_auto_columns": null,
            "grid_auto_flow": null,
            "grid_auto_rows": null,
            "grid_column": null,
            "grid_gap": null,
            "grid_row": null,
            "grid_template_areas": null,
            "grid_template_columns": null,
            "grid_template_rows": null,
            "height": null,
            "justify_content": null,
            "justify_items": null,
            "left": null,
            "margin": null,
            "max_height": null,
            "max_width": null,
            "min_height": null,
            "min_width": null,
            "object_fit": null,
            "object_position": null,
            "order": null,
            "overflow": null,
            "overflow_x": null,
            "overflow_y": null,
            "padding": null,
            "right": null,
            "top": null,
            "visibility": null,
            "width": null
          }
        },
        "85bca231ef614330a0b50accf7229fb8": {
          "model_module": "@jupyter-widgets/controls",
          "model_name": "DescriptionStyleModel",
          "model_module_version": "1.5.0",
          "state": {
            "_model_module": "@jupyter-widgets/controls",
            "_model_module_version": "1.5.0",
            "_model_name": "DescriptionStyleModel",
            "_view_count": null,
            "_view_module": "@jupyter-widgets/base",
            "_view_module_version": "1.2.0",
            "_view_name": "StyleView",
            "description_width": ""
          }
        },
        "5c5c68542dc7487b97322e1e86dbaed2": {
          "model_module": "@jupyter-widgets/controls",
          "model_name": "HBoxModel",
          "model_module_version": "1.5.0",
          "state": {
            "_dom_classes": [],
            "_model_module": "@jupyter-widgets/controls",
            "_model_module_version": "1.5.0",
            "_model_name": "HBoxModel",
            "_view_count": null,
            "_view_module": "@jupyter-widgets/controls",
            "_view_module_version": "1.5.0",
            "_view_name": "HBoxView",
            "box_style": "",
            "children": [
              "IPY_MODEL_84bbc433d6f24fd1a231ef5ae07b29c1",
              "IPY_MODEL_f0942cb6419f4dccb618000ad841ba6f",
              "IPY_MODEL_af65c1a9e5e74a27a78a416926a44676"
            ],
            "layout": "IPY_MODEL_6b7ae13a4a934c1084cf444953693c81"
          }
        },
        "84bbc433d6f24fd1a231ef5ae07b29c1": {
          "model_module": "@jupyter-widgets/controls",
          "model_name": "HTMLModel",
          "model_module_version": "1.5.0",
          "state": {
            "_dom_classes": [],
            "_model_module": "@jupyter-widgets/controls",
            "_model_module_version": "1.5.0",
            "_model_name": "HTMLModel",
            "_view_count": null,
            "_view_module": "@jupyter-widgets/controls",
            "_view_module_version": "1.5.0",
            "_view_name": "HTMLView",
            "description": "",
            "description_tooltip": null,
            "layout": "IPY_MODEL_8a4743dd8d454112905888fd42600c03",
            "placeholder": "​",
            "style": "IPY_MODEL_025821caa5f74c099f1e8e543bb55a50",
            "value": "100%"
          }
        },
        "f0942cb6419f4dccb618000ad841ba6f": {
          "model_module": "@jupyter-widgets/controls",
          "model_name": "FloatProgressModel",
          "model_module_version": "1.5.0",
          "state": {
            "_dom_classes": [],
            "_model_module": "@jupyter-widgets/controls",
            "_model_module_version": "1.5.0",
            "_model_name": "FloatProgressModel",
            "_view_count": null,
            "_view_module": "@jupyter-widgets/controls",
            "_view_module_version": "1.5.0",
            "_view_name": "ProgressView",
            "bar_style": "success",
            "description": "",
            "description_tooltip": null,
            "layout": "IPY_MODEL_a357de1df5334920aa863dba985c6120",
            "max": 50,
            "min": 0,
            "orientation": "horizontal",
            "style": "IPY_MODEL_255c2436dc2a4a9b827084a5c1056937",
            "value": 50
          }
        },
        "af65c1a9e5e74a27a78a416926a44676": {
          "model_module": "@jupyter-widgets/controls",
          "model_name": "HTMLModel",
          "model_module_version": "1.5.0",
          "state": {
            "_dom_classes": [],
            "_model_module": "@jupyter-widgets/controls",
            "_model_module_version": "1.5.0",
            "_model_name": "HTMLModel",
            "_view_count": null,
            "_view_module": "@jupyter-widgets/controls",
            "_view_module_version": "1.5.0",
            "_view_name": "HTMLView",
            "description": "",
            "description_tooltip": null,
            "layout": "IPY_MODEL_a32600acf5d54e519397f416af429f30",
            "placeholder": "​",
            "style": "IPY_MODEL_e4496a6c6f904a6e9e750ecd095674b6",
            "value": " 50/50 [03:15&lt;00:00,  4.16s/it]"
          }
        },
        "6b7ae13a4a934c1084cf444953693c81": {
          "model_module": "@jupyter-widgets/base",
          "model_name": "LayoutModel",
          "model_module_version": "1.2.0",
          "state": {
            "_model_module": "@jupyter-widgets/base",
            "_model_module_version": "1.2.0",
            "_model_name": "LayoutModel",
            "_view_count": null,
            "_view_module": "@jupyter-widgets/base",
            "_view_module_version": "1.2.0",
            "_view_name": "LayoutView",
            "align_content": null,
            "align_items": null,
            "align_self": null,
            "border": null,
            "bottom": null,
            "display": null,
            "flex": null,
            "flex_flow": null,
            "grid_area": null,
            "grid_auto_columns": null,
            "grid_auto_flow": null,
            "grid_auto_rows": null,
            "grid_column": null,
            "grid_gap": null,
            "grid_row": null,
            "grid_template_areas": null,
            "grid_template_columns": null,
            "grid_template_rows": null,
            "height": null,
            "justify_content": null,
            "justify_items": null,
            "left": null,
            "margin": null,
            "max_height": null,
            "max_width": null,
            "min_height": null,
            "min_width": null,
            "object_fit": null,
            "object_position": null,
            "order": null,
            "overflow": null,
            "overflow_x": null,
            "overflow_y": null,
            "padding": null,
            "right": null,
            "top": null,
            "visibility": null,
            "width": null
          }
        },
        "8a4743dd8d454112905888fd42600c03": {
          "model_module": "@jupyter-widgets/base",
          "model_name": "LayoutModel",
          "model_module_version": "1.2.0",
          "state": {
            "_model_module": "@jupyter-widgets/base",
            "_model_module_version": "1.2.0",
            "_model_name": "LayoutModel",
            "_view_count": null,
            "_view_module": "@jupyter-widgets/base",
            "_view_module_version": "1.2.0",
            "_view_name": "LayoutView",
            "align_content": null,
            "align_items": null,
            "align_self": null,
            "border": null,
            "bottom": null,
            "display": null,
            "flex": null,
            "flex_flow": null,
            "grid_area": null,
            "grid_auto_columns": null,
            "grid_auto_flow": null,
            "grid_auto_rows": null,
            "grid_column": null,
            "grid_gap": null,
            "grid_row": null,
            "grid_template_areas": null,
            "grid_template_columns": null,
            "grid_template_rows": null,
            "height": null,
            "justify_content": null,
            "justify_items": null,
            "left": null,
            "margin": null,
            "max_height": null,
            "max_width": null,
            "min_height": null,
            "min_width": null,
            "object_fit": null,
            "object_position": null,
            "order": null,
            "overflow": null,
            "overflow_x": null,
            "overflow_y": null,
            "padding": null,
            "right": null,
            "top": null,
            "visibility": null,
            "width": null
          }
        },
        "025821caa5f74c099f1e8e543bb55a50": {
          "model_module": "@jupyter-widgets/controls",
          "model_name": "DescriptionStyleModel",
          "model_module_version": "1.5.0",
          "state": {
            "_model_module": "@jupyter-widgets/controls",
            "_model_module_version": "1.5.0",
            "_model_name": "DescriptionStyleModel",
            "_view_count": null,
            "_view_module": "@jupyter-widgets/base",
            "_view_module_version": "1.2.0",
            "_view_name": "StyleView",
            "description_width": ""
          }
        },
        "a357de1df5334920aa863dba985c6120": {
          "model_module": "@jupyter-widgets/base",
          "model_name": "LayoutModel",
          "model_module_version": "1.2.0",
          "state": {
            "_model_module": "@jupyter-widgets/base",
            "_model_module_version": "1.2.0",
            "_model_name": "LayoutModel",
            "_view_count": null,
            "_view_module": "@jupyter-widgets/base",
            "_view_module_version": "1.2.0",
            "_view_name": "LayoutView",
            "align_content": null,
            "align_items": null,
            "align_self": null,
            "border": null,
            "bottom": null,
            "display": null,
            "flex": null,
            "flex_flow": null,
            "grid_area": null,
            "grid_auto_columns": null,
            "grid_auto_flow": null,
            "grid_auto_rows": null,
            "grid_column": null,
            "grid_gap": null,
            "grid_row": null,
            "grid_template_areas": null,
            "grid_template_columns": null,
            "grid_template_rows": null,
            "height": null,
            "justify_content": null,
            "justify_items": null,
            "left": null,
            "margin": null,
            "max_height": null,
            "max_width": null,
            "min_height": null,
            "min_width": null,
            "object_fit": null,
            "object_position": null,
            "order": null,
            "overflow": null,
            "overflow_x": null,
            "overflow_y": null,
            "padding": null,
            "right": null,
            "top": null,
            "visibility": null,
            "width": null
          }
        },
        "255c2436dc2a4a9b827084a5c1056937": {
          "model_module": "@jupyter-widgets/controls",
          "model_name": "ProgressStyleModel",
          "model_module_version": "1.5.0",
          "state": {
            "_model_module": "@jupyter-widgets/controls",
            "_model_module_version": "1.5.0",
            "_model_name": "ProgressStyleModel",
            "_view_count": null,
            "_view_module": "@jupyter-widgets/base",
            "_view_module_version": "1.2.0",
            "_view_name": "StyleView",
            "bar_color": null,
            "description_width": ""
          }
        },
        "a32600acf5d54e519397f416af429f30": {
          "model_module": "@jupyter-widgets/base",
          "model_name": "LayoutModel",
          "model_module_version": "1.2.0",
          "state": {
            "_model_module": "@jupyter-widgets/base",
            "_model_module_version": "1.2.0",
            "_model_name": "LayoutModel",
            "_view_count": null,
            "_view_module": "@jupyter-widgets/base",
            "_view_module_version": "1.2.0",
            "_view_name": "LayoutView",
            "align_content": null,
            "align_items": null,
            "align_self": null,
            "border": null,
            "bottom": null,
            "display": null,
            "flex": null,
            "flex_flow": null,
            "grid_area": null,
            "grid_auto_columns": null,
            "grid_auto_flow": null,
            "grid_auto_rows": null,
            "grid_column": null,
            "grid_gap": null,
            "grid_row": null,
            "grid_template_areas": null,
            "grid_template_columns": null,
            "grid_template_rows": null,
            "height": null,
            "justify_content": null,
            "justify_items": null,
            "left": null,
            "margin": null,
            "max_height": null,
            "max_width": null,
            "min_height": null,
            "min_width": null,
            "object_fit": null,
            "object_position": null,
            "order": null,
            "overflow": null,
            "overflow_x": null,
            "overflow_y": null,
            "padding": null,
            "right": null,
            "top": null,
            "visibility": null,
            "width": null
          }
        },
        "e4496a6c6f904a6e9e750ecd095674b6": {
          "model_module": "@jupyter-widgets/controls",
          "model_name": "DescriptionStyleModel",
          "model_module_version": "1.5.0",
          "state": {
            "_model_module": "@jupyter-widgets/controls",
            "_model_module_version": "1.5.0",
            "_model_name": "DescriptionStyleModel",
            "_view_count": null,
            "_view_module": "@jupyter-widgets/base",
            "_view_module_version": "1.2.0",
            "_view_name": "StyleView",
            "description_width": ""
          }
        }
      }
    }
  },
  "cells": [
    {
      "cell_type": "markdown",
      "metadata": {
        "id": "view-in-github",
        "colab_type": "text"
      },
      "source": [
        "<a href=\"https://colab.research.google.com/github/hemant-chapa23/ActivityDetector/blob/main/DL_Assignment_2_Draft.ipynb\" target=\"_parent\"><img src=\"https://colab.research.google.com/assets/colab-badge.svg\" alt=\"Open In Colab\"/></a>"
      ]
    },
    {
      "cell_type": "markdown",
      "source": [
        "# 1. Import Libraries/Dataset"
      ],
      "metadata": {
        "id": "B-tnlucdqNbE"
      }
    },
    {
      "cell_type": "code",
      "source": [
        "from google.colab import drive\n",
        "drive.mount('/content/drive')"
      ],
      "metadata": {
        "colab": {
          "base_uri": "https://localhost:8080/"
        },
        "id": "r_gSfXnzZ3jP",
        "outputId": "2e3fa82e-1ee5-455d-fa0a-223d5c6c30cf"
      },
      "execution_count": 1,
      "outputs": [
        {
          "output_type": "stream",
          "name": "stdout",
          "text": [
            "Drive already mounted at /content/drive; to attempt to forcibly remount, call drive.mount(\"/content/drive\", force_remount=True).\n"
          ]
        }
      ]
    },
    {
      "cell_type": "markdown",
      "source": [
        "## 1.1 Import the required libraries"
      ],
      "metadata": {
        "id": "_Px-ihNNqsRB"
      }
    },
    {
      "cell_type": "code",
      "source": [
        "import os\n",
        "from tensorflow.keras.models import Sequential\n",
        "from tensorflow.keras.layers import *\n",
        "from tensorflow.keras.callbacks import EarlyStopping\n",
        "from tensorflow.keras.utils import to_categorical\n",
        "import pandas as pd\n",
        "import numpy as np\n",
        "from tqdm import tqdm\n",
        "import os\n",
        "import cv2\n",
        "from sklearn.model_selection import train_test_split\n",
        "from sklearn.metrics import accuracy_score, confusion_matrix\n",
        "import itertools\n",
        "import matplotlib.pyplot as plt\n",
        "import shutil "
      ],
      "metadata": {
        "id": "R91EoPwzObJT"
      },
      "execution_count": 2,
      "outputs": []
    },
    {
      "cell_type": "code",
      "source": [
        "import tensorflow as tf\n",
        "from tensorflow.keras.applications.inception_v3 import InceptionV3\n",
        "import sklearn\n",
        "from sklearn.model_selection import train_test_split\n",
        "from sklearn.utils import shuffle\n",
        "\n",
        "import numpy as np\n",
        "import pandas as pd\n",
        "\n",
        "import matplotlib.pyplot as plt\n",
        "from PIL import Image\n",
        "from IPython.display import display\n",
        "\n",
        "import os\n",
        "import re\n",
        "import time\n",
        "import json\n",
        "\n",
        "import string\n",
        "from collections import Counter\n",
        "\n",
        "import pickle\n",
        "from tqdm.auto import tqdm"
      ],
      "metadata": {
        "id": "zjOjnMsJrerx"
      },
      "execution_count": 3,
      "outputs": []
    },
    {
      "cell_type": "markdown",
      "source": [
        "## 1.2 Checking GPU"
      ],
      "metadata": {
        "id": "9FVc0HzNqxM6"
      }
    },
    {
      "cell_type": "code",
      "source": [
        "# import tensorflow as tf \n",
        "# print(tf.config.list_physical_devices('GPU'))"
      ],
      "metadata": {
        "id": "bvIK4kbMq_o0"
      },
      "execution_count": 4,
      "outputs": []
    },
    {
      "cell_type": "code",
      "source": [
        "# !nvidia-smi"
      ],
      "metadata": {
        "id": "mfbiGJ5gOOij"
      },
      "execution_count": 5,
      "outputs": []
    },
    {
      "cell_type": "code",
      "source": [
        "#@title Dataset configuration\n",
        "# shutil.rmtree(\"/content/drive/MyDrive/UCF-101/Dataset/train/\")\n",
        "# shutil.rmtree(\"/content/drive/MyDrive/UCF-101/Dataset/test/\")\n",
        "base_path = '/content/drive/MyDrive/UCF-101/Dataset'\n",
        "# images_path = '/content/drive/MyDrive/UCF-101/images/'\n",
        "labels_path = '/content/drive/MyDrive/UCF-101-labels'\n",
        "os.makedirs(\"/content/drive/MyDrive/UCF-101/Dataset/train/\", exist_ok = True)\n",
        "os.makedirs(\"/content/drive/MyDrive/UCF-101/Dataset/test/\", exist_ok = True)\n",
        "train_path = '/content/drive/MyDrive/UCF-101/Dataset/train/'\n",
        "test_path = '/content/drive/MyDrive/UCF-101/Dataset/test/'\n",
        "labels = {'BandMarching':0,'ApplyEyeMakeup':1,'Basketball':2,'BaseballPitch':3,'BabyCrawling':4}"
      ],
      "metadata": {
        "id": "zRaYmYY6OztW"
      },
      "execution_count": 6,
      "outputs": []
    },
    {
      "cell_type": "code",
      "source": [
        "# def make_train_test():\n",
        "# # print(os.getcwd())\n",
        "#   train_vdos = []\n",
        "#   test_vdos = []\n",
        "#   for category in os.listdir(labels_path):\n",
        "#     if \"train\" in category:\n",
        "#       train_file = open(category, 'r')\n",
        "#       for line in train_file:\n",
        "#         fields = line.split()\n",
        "#         vdo = fields[0]\n",
        "#         label = fields[1]\n",
        "#         # print(f\"Video: {vdo}, Label: {label}\")\n",
        "#         train_vdos.append((vdo, label))\n",
        "#     elif \"test\" in category:\n",
        "#       test_file = open(category, 'r')\n",
        "#       for vdo in test_file:\n",
        "#         test_vdos.append(vdo) \n",
        "\n",
        "#   label_file = open('classInd.txt','r')\n",
        "#   label_list = []\n",
        "#   srl = []\n",
        "#   classname = []\n",
        "#   for line in label_file:\n",
        "#     fields = line.split()\n",
        "#     srl = fields[0]\n",
        "#     classname = fields[1]\n",
        "#     label_list.append((srl, classname))\n",
        "\n",
        "#   labels_df = pd.DataFrame(label_list, columns = [\"label\", \"class\"])\n",
        "\n",
        "#   training = pd.DataFrame(train_vdos, columns = [\"vdo\", \"label\"])\n",
        "#   testing = pd.DataFrame(test_vdos, columns = [\"vdo\"])\n",
        "\n",
        "#   training.drop_duplicates(keep= 'first', inplace = True)\n",
        "#   testing.drop_duplicates(keep = 'first', inplace = True)\n",
        "#   training = pd.merge(left = training, right = labels_df, how = 'inner', on = 'label')\n",
        "#   return training, testing\n",
        "\n",
        "\n",
        "# train, test = make_train_test()"
      ],
      "metadata": {
        "id": "Plwrdm-hjNNm"
      },
      "execution_count": 7,
      "outputs": []
    },
    {
      "cell_type": "code",
      "source": [
        "os.chdir(labels_path)\n",
        "\n",
        "def make_train_test():\n",
        "# print(os.getcwd())\n",
        "  train_vdos = []\n",
        "  test_vdos = []\n",
        "  for category in os.listdir(labels_path):\n",
        "    if \"train\" in category:\n",
        "      train_file = open(category, 'r')\n",
        "      for line in train_file:\n",
        "        fields = line.split()\n",
        "        if fields[0].split('_')[1] in labels:\n",
        "          vdo = fields[0]\n",
        "          # label = fields[1]\n",
        "        # print(f\"Video: {vdo}, Label: {label}\")\n",
        "          train_vdos.append((vdo, fields[0].split('_')[1]))\n",
        "    elif \"test\" in category:\n",
        "      test_file = open(category, 'r')\n",
        "      for vdo in test_file:\n",
        "        if vdo.split('_')[1] in labels:\n",
        "          test_vdos.append(vdo) \n",
        "\n",
        "  # label_file = open('classInd.txt','r')\n",
        "  # label_list = []\n",
        "  # srl = []\n",
        "  # classname = []\n",
        "  # for line in label_file:\n",
        "  #   fields = line.split()\n",
        "  #   srl = fields[0]\n",
        "  #   classname = fields[1]\n",
        "  #   label_list.append((srl, classname))\n",
        "\n",
        "  # labels_df = pd.DataFrame(label_list, columns = [\"label\", \"class\"])\n",
        "\n",
        "  training = pd.DataFrame(train_vdos, columns = [\"vdo\", \"label\"])\n",
        "  testing = pd.DataFrame(test_vdos, columns = [\"vdo\"])\n",
        "\n",
        "  training.drop_duplicates(keep= 'first', inplace = True)\n",
        "  testing.drop_duplicates(keep = 'first', inplace = True)\n",
        "  # training = pd.merge(left = training, right = labels_df, how = 'inner', on = 'label')\n",
        "  return training, testing\n",
        "\n",
        "\n",
        "train, test = make_train_test()"
      ],
      "metadata": {
        "id": "OGVmXpX11O-u"
      },
      "execution_count": 8,
      "outputs": []
    },
    {
      "cell_type": "code",
      "source": [
        "train['label'].unique()"
      ],
      "metadata": {
        "colab": {
          "base_uri": "https://localhost:8080/"
        },
        "id": "dKyBHhQLQ9hV",
        "outputId": "cd8511c6-9bf3-4ef7-ac77-031cf32fbea1"
      },
      "execution_count": 9,
      "outputs": [
        {
          "output_type": "execute_result",
          "data": {
            "text/plain": [
              "array(['ApplyEyeMakeup', 'BabyCrawling', 'BandMarching', 'BaseballPitch',\n",
              "       'Basketball'], dtype=object)"
            ]
          },
          "metadata": {},
          "execution_count": 9
        }
      ]
    },
    {
      "cell_type": "markdown",
      "source": [
        "# 2. Data Processing"
      ],
      "metadata": {
        "id": "ocxjW8_6qhaD"
      }
    },
    {
      "cell_type": "markdown",
      "source": [
        "## 2.1 Converting the data into the correct format\n",
        "\n",
        "---"
      ],
      "metadata": {
        "id": "tH4_vAuBroNc"
      }
    },
    {
      "cell_type": "markdown",
      "source": [
        "The pre-trained model requires the input in 224 X 224 X 3 tensor."
      ],
      "metadata": {
        "id": "49bwZfmjrxn5"
      }
    },
    {
      "cell_type": "markdown",
      "source": [
        "TODO:\n",
        "- Mention why the framing has to be done"
      ],
      "metadata": {
        "id": "2k2Z66_7w1dv"
      }
    },
    {
      "cell_type": "code",
      "source": [
        "def images_from_video(video_path):\n",
        "  # print(\"images_from_video:\", video_path)\n",
        "  w = 224\n",
        "  h = 224\n",
        "  seq_len = 10\n",
        "  frames = []\n",
        "  vr = cv2.VideoCapture(video_path)\n",
        "\n",
        "  frame_counts = int(vr.get(cv2.CAP_PROP_FRAME_COUNT))\n",
        "\n",
        "  #Since extracting all the frames will be processing heavy, we create intervals on the frames that will be processed\n",
        "  skip_frames = max(int(frame_counts/seq_len), 1)\n",
        "  for part in range(seq_len): # This will generate 10frames per video\n",
        "    vr.set(cv2.CAP_PROP_POS_FRAMES, skip_frames * part) # Capture the frame every skip_frames frames apart\n",
        "    success, frame = vr.read()\n",
        "\n",
        "    if not success:\n",
        "      print(success)\n",
        "      break\n",
        "\n",
        "    frame = cv2.resize(frame, (w, h))\n",
        "    frame = frame/255\n",
        "    frames.append(frame)\n",
        "\n",
        "  vr.release()\n",
        "  return frames\n"
      ],
      "metadata": {
        "id": "3Wwz-NXIZuFl"
      },
      "execution_count": 10,
      "outputs": []
    },
    {
      "cell_type": "code",
      "source": [
        "\"\"\"\n",
        "This will take only the video path and not the entire directory\n",
        " \"\"\"\n",
        "def load_videos(video_path):\n",
        "  # print(\"load_videos:\",video_path )\n",
        "  images = []\n",
        "  frames_list = images_from_video(video_path)\n",
        "  images.append(frames_list)\n",
        "  return np.array(images)"
      ],
      "metadata": {
        "id": "nsnCR7b78eP-"
      },
      "execution_count": 11,
      "outputs": []
    },
    {
      "cell_type": "code",
      "source": [
        "\"\"\" Call to the load_videos\"\"\"\n",
        "def get_frames_for_video(vdo_path):\n",
        "  # print(\"get_frames_for_video: \", vdo_path)\n",
        "  \"\"\"\n",
        "  This method accepts the number of videos to call load_vidoes for and get the frames for videos\n",
        "  and returns a list of images with their frames and the training labels\n",
        "  \"\"\"\n",
        "  # Call to load_videos\n",
        "  img = load_videos(os.path.join(base_path,vdo_path)) \n",
        "  # image_list.append(img)\n",
        "  training_label = train.loc[train.vdo == vdo_path,'label'].item()\n",
        "  # print(training_label)\n",
        "  return img, training_label"
      ],
      "metadata": {
        "id": "M5oq1dPiI4Ln"
      },
      "execution_count": 12,
      "outputs": []
    },
    {
      "cell_type": "code",
      "source": [
        "train.loc[train.vdo == 'ApplyEyeMakeup/v_ApplyEyeMakeup_g25_c07.avi','label']"
      ],
      "metadata": {
        "colab": {
          "base_uri": "https://localhost:8080/"
        },
        "id": "7nyIgJ31QeG3",
        "outputId": "06b43960-8442-4cfc-c213-cfb1faa8257b"
      },
      "execution_count": 13,
      "outputs": [
        {
          "output_type": "execute_result",
          "data": {
            "text/plain": [
              "100    ApplyEyeMakeup\n",
              "Name: label, dtype: object"
            ]
          },
          "metadata": {},
          "execution_count": 13
        }
      ]
    },
    {
      "cell_type": "markdown",
      "source": [
        "## 2.2 Plot at least two samples and their captions"
      ],
      "metadata": {
        "id": "bpcquul0AOX3"
      }
    },
    {
      "cell_type": "code",
      "source": [
        "\n",
        "def saving_train_images(image_list,train_label,video_list= []):\n",
        "  \"\"\"\n",
        "  Plotting the Images with their training labels\n",
        "  Each Video will generate 5 frames and each frame is plotted\n",
        "  \"\"\"\n",
        "  # if save_or_display.lower() == 'display':\n",
        "  #   fig, axes = plt.subplots(len(image_list), 10, figsize = (25,20))\n",
        "  #   for (index, each_video) in enumerate(image_list):\n",
        "  #     for (image_index, each_frame) in enumerate(each_video):\n",
        "  #       for idx, frm in enumerate(each_frame):      \n",
        "  #         axes[index][idx].imshow(frm, interpolation = 'nearest')\n",
        "  #         axes[index][idx].set_title(train_label[index], fontdict={'fontsize': 15, 'fontweight': 'medium'})\n",
        "  # elif save_or_display.lower() == 'save':\n",
        "  for (index, each_video) in enumerate(image_list):\n",
        "    for (image_index, each_frame) in enumerate(each_video):\n",
        "      for idx, frm in enumerate(each_frame):      \n",
        "        os.chdir(train_path)\n",
        "        # fig = plt.figure()\n",
        "        plt.imsave(f'{video_list[index]}_{index}_{idx}.jpg',frm)\n",
        "        # plt.savefig(f'{video_list[index]}_{index}_{idx}.jpg')\n",
        "        # plt.close(fig)\n",
        "\n",
        "  return None"
      ],
      "metadata": {
        "id": "fcBG5Jr1bU28"
      },
      "execution_count": 37,
      "outputs": []
    },
    {
      "cell_type": "code",
      "source": [
        "# image_list, train_label = get_frames(4)\n",
        "\n",
        "# def saving_train_images(image_list,train_label,video_list= []):\n",
        "  \"\"\"\n",
        "  Plotting the Images with their training labels\n",
        "  Each Video will generate 5 frames and each frame is plotted\n",
        "  \"\"\"\n",
        " \n",
        "  # for (index, each_video) in enumerate(image_list):\n",
        "  #   for (image_index, each_frame) in enumerate(each_video):\n",
        "  #     for idx, frm in enumerate(each_frame):      \n",
        "  #       os.chdir(train_path)\n",
        "  #       fig = plt.figure()\n",
        "  #       plt.imshow(frm, interpolation = 'nearest')\n",
        "  #       plt.savefig(f'{video_list[index]}_{index}_{idx}.jpg')\n",
        "  #       plt.close(fig)\n",
        "\n",
        "  # return None"
      ],
      "metadata": {
        "id": "ZJarh8obRYjq"
      },
      "execution_count": 14,
      "outputs": []
    },
    {
      "cell_type": "code",
      "source": [
        "image_list = []\n",
        "training_labels = []\n",
        "vdo_list= []\n",
        "for vdo in tqdm(train[\"vdo\"]):\n",
        "  image, label = get_frames_for_video(vdo)\n",
        "  image_list.append(image)\n",
        "  training_labels.append(label)\n",
        "  vdo_list.append(vdo.split(\"/\")[1].split(\".\")[0])\n",
        "  saving_train_images(image_list, training_labels, vdo_list) # Saved in train folder\n",
        "# plot_images(image_list, training_labels, vdo_list, save_or_display = 'display') # display interactively"
      ],
      "metadata": {
        "id": "sm3VrQAuTXuP",
        "colab": {
          "base_uri": "https://localhost:8080/",
          "height": 395,
          "referenced_widgets": [
            "9c7278f154224068aa57cb538bb1eb2d",
            "f11b91bf77ac4fa58b639f5914bdfc40",
            "c84ee1ebe1954fa6ae820d2ac202b368",
            "1c0390fd119848b4b4c4723400f0fdeb",
            "cf95541542314eb3ab9d052776e6148b",
            "77b4835a8ffa4d01932bf6b81f81d900",
            "1292a048bf824f3192e6ab506ce510ad",
            "cbcc6bf068ca4916a1976f77196a379c",
            "3102f823fa444e0a91a7e8b393f89979",
            "3174a2fefc7d402e884318122e9a32ae",
            "85bca231ef614330a0b50accf7229fb8"
          ]
        },
        "outputId": "b0c14944-498f-44b7-a434-5c1325c1b278"
      },
      "execution_count": 38,
      "outputs": [
        {
          "output_type": "display_data",
          "data": {
            "text/plain": [
              "  0%|          | 0/716 [00:00<?, ?it/s]"
            ],
            "application/vnd.jupyter.widget-view+json": {
              "version_major": 2,
              "version_minor": 0,
              "model_id": "9c7278f154224068aa57cb538bb1eb2d"
            }
          },
          "metadata": {}
        },
        {
          "output_type": "error",
          "ename": "KeyboardInterrupt",
          "evalue": "ignored",
          "traceback": [
            "\u001b[0;31m---------------------------------------------------------------------------\u001b[0m",
            "\u001b[0;31mKeyboardInterrupt\u001b[0m                         Traceback (most recent call last)",
            "\u001b[0;32m<ipython-input-38-23f18f8ab3c6>\u001b[0m in \u001b[0;36m<module>\u001b[0;34m\u001b[0m\n\u001b[1;32m      7\u001b[0m   \u001b[0mtraining_labels\u001b[0m\u001b[0;34m.\u001b[0m\u001b[0mappend\u001b[0m\u001b[0;34m(\u001b[0m\u001b[0mlabel\u001b[0m\u001b[0;34m)\u001b[0m\u001b[0;34m\u001b[0m\u001b[0;34m\u001b[0m\u001b[0m\n\u001b[1;32m      8\u001b[0m   \u001b[0mvdo_list\u001b[0m\u001b[0;34m.\u001b[0m\u001b[0mappend\u001b[0m\u001b[0;34m(\u001b[0m\u001b[0mvdo\u001b[0m\u001b[0;34m.\u001b[0m\u001b[0msplit\u001b[0m\u001b[0;34m(\u001b[0m\u001b[0;34m\"/\"\u001b[0m\u001b[0;34m)\u001b[0m\u001b[0;34m[\u001b[0m\u001b[0;36m1\u001b[0m\u001b[0;34m]\u001b[0m\u001b[0;34m.\u001b[0m\u001b[0msplit\u001b[0m\u001b[0;34m(\u001b[0m\u001b[0;34m\".\"\u001b[0m\u001b[0;34m)\u001b[0m\u001b[0;34m[\u001b[0m\u001b[0;36m0\u001b[0m\u001b[0;34m]\u001b[0m\u001b[0;34m)\u001b[0m\u001b[0;34m\u001b[0m\u001b[0;34m\u001b[0m\u001b[0m\n\u001b[0;32m----> 9\u001b[0;31m   \u001b[0msaving_train_images\u001b[0m\u001b[0;34m(\u001b[0m\u001b[0mimage_list\u001b[0m\u001b[0;34m,\u001b[0m \u001b[0mtraining_labels\u001b[0m\u001b[0;34m,\u001b[0m \u001b[0mvdo_list\u001b[0m\u001b[0;34m)\u001b[0m \u001b[0;31m# Saved in train folder\u001b[0m\u001b[0;34m\u001b[0m\u001b[0;34m\u001b[0m\u001b[0m\n\u001b[0m\u001b[1;32m     10\u001b[0m \u001b[0;31m# plot_images(image_list, training_labels, vdo_list, save_or_display = 'display') # display interactively\u001b[0m\u001b[0;34m\u001b[0m\u001b[0;34m\u001b[0m\u001b[0m\n",
            "\u001b[0;32m<ipython-input-37-22bcb8c74176>\u001b[0m in \u001b[0;36msaving_train_images\u001b[0;34m(image_list, train_label, video_list)\u001b[0m\n\u001b[1;32m     17\u001b[0m         \u001b[0mos\u001b[0m\u001b[0;34m.\u001b[0m\u001b[0mchdir\u001b[0m\u001b[0;34m(\u001b[0m\u001b[0mtrain_path\u001b[0m\u001b[0;34m)\u001b[0m\u001b[0;34m\u001b[0m\u001b[0;34m\u001b[0m\u001b[0m\n\u001b[1;32m     18\u001b[0m         \u001b[0;31m# fig = plt.figure()\u001b[0m\u001b[0;34m\u001b[0m\u001b[0;34m\u001b[0m\u001b[0m\n\u001b[0;32m---> 19\u001b[0;31m         \u001b[0mplt\u001b[0m\u001b[0;34m.\u001b[0m\u001b[0mimsave\u001b[0m\u001b[0;34m(\u001b[0m\u001b[0;34mf'{video_list[index]}_{index}_{idx}.jpg'\u001b[0m\u001b[0;34m,\u001b[0m\u001b[0mfrm\u001b[0m\u001b[0;34m)\u001b[0m\u001b[0;34m\u001b[0m\u001b[0;34m\u001b[0m\u001b[0m\n\u001b[0m\u001b[1;32m     20\u001b[0m         \u001b[0;31m# plt.savefig(f'{video_list[index]}_{index}_{idx}.jpg')\u001b[0m\u001b[0;34m\u001b[0m\u001b[0;34m\u001b[0m\u001b[0m\n\u001b[1;32m     21\u001b[0m         \u001b[0;31m# plt.close(fig)\u001b[0m\u001b[0;34m\u001b[0m\u001b[0;34m\u001b[0m\u001b[0m\n",
            "\u001b[0;32m/usr/local/lib/python3.9/dist-packages/matplotlib/pyplot.py\u001b[0m in \u001b[0;36mimsave\u001b[0;34m(fname, arr, **kwargs)\u001b[0m\n\u001b[1;32m   2198\u001b[0m \u001b[0;34m@\u001b[0m\u001b[0m_copy_docstring_and_deprecators\u001b[0m\u001b[0;34m(\u001b[0m\u001b[0mmatplotlib\u001b[0m\u001b[0;34m.\u001b[0m\u001b[0mimage\u001b[0m\u001b[0;34m.\u001b[0m\u001b[0mimsave\u001b[0m\u001b[0;34m)\u001b[0m\u001b[0;34m\u001b[0m\u001b[0;34m\u001b[0m\u001b[0m\n\u001b[1;32m   2199\u001b[0m \u001b[0;32mdef\u001b[0m \u001b[0mimsave\u001b[0m\u001b[0;34m(\u001b[0m\u001b[0mfname\u001b[0m\u001b[0;34m,\u001b[0m \u001b[0marr\u001b[0m\u001b[0;34m,\u001b[0m \u001b[0;34m**\u001b[0m\u001b[0mkwargs\u001b[0m\u001b[0;34m)\u001b[0m\u001b[0;34m:\u001b[0m\u001b[0;34m\u001b[0m\u001b[0;34m\u001b[0m\u001b[0m\n\u001b[0;32m-> 2200\u001b[0;31m     \u001b[0;32mreturn\u001b[0m \u001b[0mmatplotlib\u001b[0m\u001b[0;34m.\u001b[0m\u001b[0mimage\u001b[0m\u001b[0;34m.\u001b[0m\u001b[0mimsave\u001b[0m\u001b[0;34m(\u001b[0m\u001b[0mfname\u001b[0m\u001b[0;34m,\u001b[0m \u001b[0marr\u001b[0m\u001b[0;34m,\u001b[0m \u001b[0;34m**\u001b[0m\u001b[0mkwargs\u001b[0m\u001b[0;34m)\u001b[0m\u001b[0;34m\u001b[0m\u001b[0;34m\u001b[0m\u001b[0m\n\u001b[0m\u001b[1;32m   2201\u001b[0m \u001b[0;34m\u001b[0m\u001b[0m\n\u001b[1;32m   2202\u001b[0m \u001b[0;34m\u001b[0m\u001b[0m\n",
            "\u001b[0;32m/usr/local/lib/python3.9/dist-packages/matplotlib/image.py\u001b[0m in \u001b[0;36mimsave\u001b[0;34m(fname, arr, vmin, vmax, cmap, format, origin, dpi, metadata, pil_kwargs)\u001b[0m\n\u001b[1;32m   1687\u001b[0m         \u001b[0mpil_kwargs\u001b[0m\u001b[0;34m.\u001b[0m\u001b[0msetdefault\u001b[0m\u001b[0;34m(\u001b[0m\u001b[0;34m\"format\"\u001b[0m\u001b[0;34m,\u001b[0m \u001b[0mformat\u001b[0m\u001b[0;34m)\u001b[0m\u001b[0;34m\u001b[0m\u001b[0;34m\u001b[0m\u001b[0m\n\u001b[1;32m   1688\u001b[0m         \u001b[0mpil_kwargs\u001b[0m\u001b[0;34m.\u001b[0m\u001b[0msetdefault\u001b[0m\u001b[0;34m(\u001b[0m\u001b[0;34m\"dpi\"\u001b[0m\u001b[0;34m,\u001b[0m \u001b[0;34m(\u001b[0m\u001b[0mdpi\u001b[0m\u001b[0;34m,\u001b[0m \u001b[0mdpi\u001b[0m\u001b[0;34m)\u001b[0m\u001b[0;34m)\u001b[0m\u001b[0;34m\u001b[0m\u001b[0;34m\u001b[0m\u001b[0m\n\u001b[0;32m-> 1689\u001b[0;31m         \u001b[0mimage\u001b[0m\u001b[0;34m.\u001b[0m\u001b[0msave\u001b[0m\u001b[0;34m(\u001b[0m\u001b[0mfname\u001b[0m\u001b[0;34m,\u001b[0m \u001b[0;34m**\u001b[0m\u001b[0mpil_kwargs\u001b[0m\u001b[0;34m)\u001b[0m\u001b[0;34m\u001b[0m\u001b[0;34m\u001b[0m\u001b[0m\n\u001b[0m\u001b[1;32m   1690\u001b[0m \u001b[0;34m\u001b[0m\u001b[0m\n\u001b[1;32m   1691\u001b[0m \u001b[0;34m\u001b[0m\u001b[0m\n",
            "\u001b[0;32m/usr/local/lib/python3.9/dist-packages/PIL/Image.py\u001b[0m in \u001b[0;36msave\u001b[0;34m(self, fp, format, **params)\u001b[0m\n\u001b[1;32m   2235\u001b[0m                 \u001b[0mfp\u001b[0m \u001b[0;34m=\u001b[0m \u001b[0mbuiltins\u001b[0m\u001b[0;34m.\u001b[0m\u001b[0mopen\u001b[0m\u001b[0;34m(\u001b[0m\u001b[0mfilename\u001b[0m\u001b[0;34m,\u001b[0m \u001b[0;34m\"r+b\"\u001b[0m\u001b[0;34m)\u001b[0m\u001b[0;34m\u001b[0m\u001b[0;34m\u001b[0m\u001b[0m\n\u001b[1;32m   2236\u001b[0m             \u001b[0;32melse\u001b[0m\u001b[0;34m:\u001b[0m\u001b[0;34m\u001b[0m\u001b[0;34m\u001b[0m\u001b[0m\n\u001b[0;32m-> 2237\u001b[0;31m                 \u001b[0mfp\u001b[0m \u001b[0;34m=\u001b[0m \u001b[0mbuiltins\u001b[0m\u001b[0;34m.\u001b[0m\u001b[0mopen\u001b[0m\u001b[0;34m(\u001b[0m\u001b[0mfilename\u001b[0m\u001b[0;34m,\u001b[0m \u001b[0;34m\"w+b\"\u001b[0m\u001b[0;34m)\u001b[0m\u001b[0;34m\u001b[0m\u001b[0;34m\u001b[0m\u001b[0m\n\u001b[0m\u001b[1;32m   2238\u001b[0m \u001b[0;34m\u001b[0m\u001b[0m\n\u001b[1;32m   2239\u001b[0m         \u001b[0;32mtry\u001b[0m\u001b[0;34m:\u001b[0m\u001b[0;34m\u001b[0m\u001b[0;34m\u001b[0m\u001b[0m\n",
            "\u001b[0;31mKeyboardInterrupt\u001b[0m: "
          ]
        }
      ]
    },
    {
      "cell_type": "code",
      "source": [],
      "metadata": {
        "colab": {
          "base_uri": "https://localhost:8080/"
        },
        "id": "d-9lbDNoW_lz",
        "outputId": "2669faab-f99c-45d6-c6da-59946695ee0e"
      },
      "execution_count": 17,
      "outputs": [
        {
          "output_type": "execute_result",
          "data": {
            "text/plain": [
              "26"
            ]
          },
          "metadata": {},
          "execution_count": 17
        }
      ]
    },
    {
      "cell_type": "code",
      "source": [
        "for (index, each_video) in enumerate(image_list):\n",
        "  for (image_index, each_frame) in enumerate(each_video):\n",
        "    for idx, frm in enumerate(each_frame):      \n",
        "      os.chdir(train_path)\n",
        "      im = Image.fromarray(np.asarray(frm)*64, 'RGB')\n",
        "im.show()\n"
      ],
      "metadata": {
        "colab": {
          "base_uri": "https://localhost:8080/",
          "height": 241
        },
        "id": "GS66U2OpPDZI",
        "outputId": "680f49ca-3212-43ef-cc42-c0b0bd27db66"
      },
      "execution_count": 34,
      "outputs": [
        {
          "output_type": "display_data",
          "data": {
            "text/plain": [
              "<PIL.Image.Image image mode=RGB size=224x224 at 0x7F9C69CAEFA0>"
            ],
            "image/png": "[encoded data removed]"
          },
          "metadata": {}
        }
      ]
    },
    {
      "cell_type": "code",
      "source": [
        "train_images = os.listdir('/content/drive/MyDrive/UCF-101/train')\n"
      ],
      "metadata": {
        "id": "9VbJkcnsroMw"
      },
      "execution_count": 3,
      "outputs": []
    },
    {
      "cell_type": "code",
      "source": [
        "frm"
      ],
      "metadata": {
        "colab": {
          "base_uri": "https://localhost:8080/",
          "height": 165
        },
        "id": "UuCT4T0Jr0vK",
        "outputId": "0dfee716-35a6-47b8-8116-ca9d6ebbe58a"
      },
      "execution_count": 18,
      "outputs": [
        {
          "output_type": "error",
          "ename": "NameError",
          "evalue": "ignored",
          "traceback": [
            "\u001b[0;31m---------------------------------------------------------------------------\u001b[0m",
            "\u001b[0;31mNameError\u001b[0m                                 Traceback (most recent call last)",
            "\u001b[0;32m<ipython-input-18-a1fc1f92de4b>\u001b[0m in \u001b[0;36m<module>\u001b[0;34m\u001b[0m\n\u001b[0;32m----> 1\u001b[0;31m \u001b[0mfrm\u001b[0m\u001b[0;34m\u001b[0m\u001b[0;34m\u001b[0m\u001b[0m\n\u001b[0m",
            "\u001b[0;31mNameError\u001b[0m: name 'frm' is not defined"
          ]
        }
      ]
    },
    {
      "cell_type": "code",
      "source": [
        "print(train_images[:4])"
      ],
      "metadata": {
        "colab": {
          "base_uri": "https://localhost:8080/"
        },
        "id": "EtyAEAFrs0sG",
        "outputId": "111e475d-7e74-4ac4-ecd1-cc7c22fe274a"
      },
      "execution_count": 5,
      "outputs": [
        {
          "output_type": "stream",
          "name": "stdout",
          "text": [
            "['v_BandMarching_g14_c02_0_0.jpg', 'v_BandMarching_g14_c02_0_1.jpg', 'v_BandMarching_g14_c02_0_2.jpg', 'v_BandMarching_g14_c02_0_3.jpg']\n"
          ]
        }
      ]
    },
    {
      "cell_type": "code",
      "source": [],
      "metadata": {
        "id": "ZAEpAb9GRdER"
      },
      "execution_count": null,
      "outputs": []
    },
    {
      "cell_type": "code",
      "source": [],
      "metadata": {
        "id": "n4LHkrOjRdBF"
      },
      "execution_count": null,
      "outputs": []
    },
    {
      "cell_type": "code",
      "source": [],
      "metadata": {
        "id": "ZxA-ADHiRc8u"
      },
      "execution_count": null,
      "outputs": []
    },
    {
      "cell_type": "code",
      "source": [],
      "metadata": {
        "id": "B0wGjnaaRc6A"
      },
      "execution_count": null,
      "outputs": []
    },
    {
      "cell_type": "code",
      "source": [],
      "metadata": {
        "id": "QsD3HISMRc3c"
      },
      "execution_count": null,
      "outputs": []
    },
    {
      "cell_type": "code",
      "source": [],
      "metadata": {
        "id": "RSH2GxtLRc0g"
      },
      "execution_count": null,
      "outputs": []
    },
    {
      "cell_type": "code",
      "source": [],
      "metadata": {
        "id": "IB8pCIXsRcxs"
      },
      "execution_count": null,
      "outputs": []
    },
    {
      "cell_type": "code",
      "source": [],
      "metadata": {
        "id": "Rj02xhfuRcut"
      },
      "execution_count": null,
      "outputs": []
    },
    {
      "cell_type": "code",
      "source": [
        "image_array = []\n",
        "image_name  = []\n",
        "y_train     = []\n",
        "labels = {'BandMarching':0,'ApplyEyeMakeup':1,'Basketball':2,'BaseballPitch':3,'BabyCrawling':4}\n",
        "for images in tqdm(train_images):\n",
        "    \n",
        "\n",
        "\n",
        "    # Load the InceptionV3 model pre-trained on ImageNet\n",
        "    model = InceptionV3(weights='imagenet', include_top=True)\n",
        "\n",
        "    # Load the image\n",
        "    img = tf.keras.preprocessing.image.load_img(f'/content/drive/MyDrive/UCF-101/train/{images}', target_size=(299, 299))\n",
        "\n",
        "    # Convert the image to a NumPy array\n",
        "    img_array = tf.keras.preprocessing.image.img_to_array(img)\n",
        "\n",
        "    # Expand the dimensions of the array to match the input shape of the model\n",
        "    img_array = tf.expand_dims(img_array, axis=0)\n",
        "\n",
        "    # Preprocess the image\n",
        "    img_array = tf.keras.applications.inception_v3.preprocess_input(img_array)\n",
        "\n",
        "    # Pass the image through the model to get the output\n",
        "    output = model.predict(img_array)\n",
        "\n",
        "    # Get the last layer of the output\n",
        "    last_layer = output[-1]\n",
        "    \n",
        "    image_array.append(last_layer)\n",
        "    image_name.append(images)\n",
        "    \n",
        "    y_train.append(labels[images.split('_')[1]])  ### class label append"
      ],
      "metadata": {
        "colab": {
          "base_uri": "https://localhost:8080/",
          "height": 917,
          "referenced_widgets": [
            "5c5c68542dc7487b97322e1e86dbaed2",
            "84bbc433d6f24fd1a231ef5ae07b29c1",
            "f0942cb6419f4dccb618000ad841ba6f",
            "af65c1a9e5e74a27a78a416926a44676",
            "6b7ae13a4a934c1084cf444953693c81",
            "8a4743dd8d454112905888fd42600c03",
            "025821caa5f74c099f1e8e543bb55a50",
            "a357de1df5334920aa863dba985c6120",
            "255c2436dc2a4a9b827084a5c1056937",
            "a32600acf5d54e519397f416af429f30",
            "e4496a6c6f904a6e9e750ecd095674b6"
          ]
        },
        "id": "jfo-tmw3smeT",
        "outputId": "55194aca-2829-4516-e22c-80b5172b0d18"
      },
      "execution_count": 13,
      "outputs": [
        {
          "output_type": "display_data",
          "data": {
            "text/plain": [
              "  0%|          | 0/50 [00:00<?, ?it/s]"
            ],
            "application/vnd.jupyter.widget-view+json": {
              "version_major": 2,
              "version_minor": 0,
              "model_id": "5c5c68542dc7487b97322e1e86dbaed2"
            }
          },
          "metadata": {}
        },
        {
          "output_type": "stream",
          "name": "stdout",
          "text": [
            "1/1 [==============================] - 1s 1s/step\n",
            "1/1 [==============================] - 2s 2s/step\n",
            "1/1 [==============================] - 1s 1s/step\n",
            "1/1 [==============================] - 1s 1s/step\n",
            "1/1 [==============================] - 2s 2s/step\n",
            "1/1 [==============================] - 1s 1s/step\n",
            "1/1 [==============================] - 1s 1s/step\n",
            "1/1 [==============================] - 1s 1s/step\n",
            "1/1 [==============================] - 2s 2s/step\n",
            "1/1 [==============================] - 1s 1s/step\n",
            "1/1 [==============================] - 1s 1s/step\n",
            "1/1 [==============================] - 1s 1s/step\n",
            "1/1 [==============================] - 2s 2s/step\n",
            "1/1 [==============================] - 1s 1s/step\n",
            "1/1 [==============================] - 1s 1s/step\n",
            "1/1 [==============================] - 2s 2s/step\n",
            "1/1 [==============================] - 2s 2s/step\n",
            "1/1 [==============================] - 1s 1s/step\n",
            "1/1 [==============================] - 2s 2s/step\n",
            "1/1 [==============================] - 1s 1s/step\n",
            "1/1 [==============================] - 1s 1s/step\n",
            "1/1 [==============================] - 2s 2s/step\n",
            "1/1 [==============================] - 1s 1s/step\n",
            "1/1 [==============================] - 1s 1s/step\n",
            "1/1 [==============================] - 1s 1s/step\n",
            "1/1 [==============================] - 2s 2s/step\n",
            "1/1 [==============================] - 1s 1s/step\n",
            "1/1 [==============================] - 1s 1s/step\n",
            "1/1 [==============================] - 1s 1s/step\n",
            "1/1 [==============================] - 1s 1s/step\n",
            "1/1 [==============================] - 1s 1s/step\n",
            "1/1 [==============================] - 1s 1s/step\n",
            "1/1 [==============================] - 2s 2s/step\n",
            "1/1 [==============================] - 1s 1s/step\n",
            "1/1 [==============================] - 1s 1s/step\n",
            "1/1 [==============================] - 2s 2s/step\n",
            "1/1 [==============================] - 1s 1s/step\n",
            "1/1 [==============================] - 1s 1s/step\n",
            "1/1 [==============================] - 1s 1s/step\n",
            "1/1 [==============================] - 2s 2s/step\n",
            "1/1 [==============================] - 1s 1s/step\n",
            "1/1 [==============================] - 1s 1s/step\n",
            "1/1 [==============================] - 1s 1s/step\n",
            "1/1 [==============================] - 1s 1s/step\n",
            "1/1 [==============================] - 1s 1s/step\n",
            "1/1 [==============================] - 1s 1s/step\n",
            "1/1 [==============================] - 2s 2s/step\n",
            "1/1 [==============================] - 1s 1s/step\n",
            "1/1 [==============================] - 1s 1s/step\n",
            "1/1 [==============================] - 3s 3s/step\n"
          ]
        }
      ]
    },
    {
      "cell_type": "code",
      "source": [
        "# labels = {'BandMarching':0,'ApplyEyeMakeup':1,'Basketball':2,'BaseballPitch':3,'BalanceBeam':4}"
      ],
      "metadata": {
        "id": "K21epQeeyD6k"
      },
      "execution_count": 9,
      "outputs": []
    },
    {
      "cell_type": "code",
      "source": [],
      "metadata": {
        "id": "8PwU2U0Vv4ac"
      },
      "execution_count": null,
      "outputs": []
    },
    {
      "cell_type": "code",
      "source": [
        "X_train = np.stack(image_array)# COnvert to nparray list of list to array of arrays"
      ],
      "metadata": {
        "id": "01OuyKUAtcsN"
      },
      "execution_count": 8,
      "outputs": []
    },
    {
      "cell_type": "code",
      "source": [],
      "metadata": {
        "id": "imncRsLht36G"
      },
      "execution_count": null,
      "outputs": []
    },
    {
      "cell_type": "code",
      "source": [
        "from sklearn.preprocessing import OneHotEncoder\n",
        "\n",
        "ohe = OneHotEncoder(sparse=False)\n",
        "targets = ohe.fit_transform(y_train.reshape(-1,1))"
      ],
      "metadata": {
        "id": "WJ2exgzct33q"
      },
      "execution_count": null,
      "outputs": []
    },
    {
      "cell_type": "code",
      "source": [
        "from keras.models import Sequential\n",
        "from keras.layers import LSTM, Dense, Flatten, Dropout"
      ],
      "metadata": {
        "id": "WXonTEbWt300"
      },
      "execution_count": 9,
      "outputs": []
    },
    {
      "cell_type": "code",
      "source": [
        "num_classes = 5\n",
        "model = Sequential([\n",
        "    LSTM(512, input_shape=(1000, 1), activation='relu'),\n",
        "    Dense(100, activation='relu'),\n",
        "    Dense(num_classes, activation='softmax')\n",
        "])"
      ],
      "metadata": {
        "colab": {
          "base_uri": "https://localhost:8080/"
        },
        "id": "9EORX9hat3yP",
        "outputId": "1cb0147d-0d87-4567-bd5a-71196d2190eb"
      },
      "execution_count": 10,
      "outputs": [
        {
          "output_type": "stream",
          "name": "stderr",
          "text": [
            "WARNING:tensorflow:Layer lstm will not use cuDNN kernels since it doesn't meet the criteria. It will use a generic GPU kernel as fallback when running on GPU.\n"
          ]
        }
      ]
    },
    {
      "cell_type": "code",
      "source": [
        "model.compile(loss='categorical_crossentropy',\n",
        "              optimizer='adam',\n",
        "              metrics=['accuracy'])\n",
        "\n",
        "# Train the model\n",
        "model.fit(X_train.reshape((X_train.shape[0], X_train.shape[1], 1)), targets,\n",
        "          batch_size=32,\n",
        "          epochs=50,)"
      ],
      "metadata": {
        "id": "YXj_1zvPt3va"
      },
      "execution_count": null,
      "outputs": []
    },
    {
      "cell_type": "code",
      "source": [],
      "metadata": {
        "id": "1q0EogCGt3sv"
      },
      "execution_count": null,
      "outputs": []
    },
    {
      "cell_type": "code",
      "source": [],
      "metadata": {
        "id": "7RYxjU8xt3qd"
      },
      "execution_count": null,
      "outputs": []
    },
    {
      "cell_type": "code",
      "source": [],
      "metadata": {
        "id": "Vo5ZdZy_t3oH"
      },
      "execution_count": null,
      "outputs": []
    },
    {
      "cell_type": "code",
      "source": [],
      "metadata": {
        "id": "8BF-qtAKt3lg"
      },
      "execution_count": null,
      "outputs": []
    },
    {
      "cell_type": "code",
      "source": [],
      "metadata": {
        "id": "NB6krGB6t3jA"
      },
      "execution_count": null,
      "outputs": []
    },
    {
      "cell_type": "code",
      "source": [],
      "metadata": {
        "id": "dq0SoZmzt3gK"
      },
      "execution_count": null,
      "outputs": []
    },
    {
      "cell_type": "code",
      "source": [],
      "metadata": {
        "id": "8xBPr5Vit3dX"
      },
      "execution_count": null,
      "outputs": []
    },
    {
      "cell_type": "code",
      "source": [
        "# for category in os.listdir(labels_path):\n",
        "#     if \"train\" in category:\n",
        "#       train_file = open(category, 'r')\n",
        "#       for line in train_file:\n",
        "#         print(line)"
      ],
      "metadata": {
        "colab": {
          "base_uri": "https://localhost:8080/"
        },
        "id": "RGU-wKorP7_v",
        "outputId": "4a150f1d-e2db-4e12-cd35-8d59bf129cbe"
      },
      "execution_count": null,
      "outputs": [
        {
          "output_type": "stream",
          "name": "stdout",
          "text": [
            "classInd.txt\n",
            "testlist01.txt\n",
            "testlist02.txt\n",
            "testlist03.txt\n",
            "trainlist01.txt\n",
            "trainlist02.txt\n",
            "trainlist03.txt\n"
          ]
        }
      ]
    },
    {
      "cell_type": "code",
      "source": [
        "# path=[]\n",
        "# for label in labels:\n",
        "#     path.append(images_path + label +\"/\")\n",
        "# path[0]"
      ],
      "metadata": {
        "id": "HRejS6zo0LQ1"
      },
      "execution_count": null,
      "outputs": []
    },
    {
      "cell_type": "code",
      "source": [
        "# # image_list, train_label = get_frames(4)\n",
        "\n",
        "# def plot_images(image_list,train_label, save = False):\n",
        "#   \"\"\"\n",
        "#   Plotting the Images with their training labels\n",
        "#   Each Video will generate 5 frames and each frame is plotted\n",
        "#   \"\"\"\n",
        "#   fig, axes = plt.subplots(len(image_list), 5, figsize = (25,20))\n",
        "#   for (index, each_video) in enumerate(image_list):\n",
        "#     for (image_index, each_frame) in enumerate(each_video):\n",
        "#       for idx, frm in enumerate(each_frame):\n",
        "#         axes[index][idx].imshow(frm, interpolation = 'nearest')\n",
        "#         axes[index][idx].set_title(train_label[index], fontdict={'fontsize': 15, 'fontweight': 'medium'})\n",
        "#   return None\n"
      ],
      "metadata": {
        "id": "6LL-PulBrM3H"
      },
      "execution_count": null,
      "outputs": []
    },
    {
      "cell_type": "code",
      "source": [
        "# \"\"\"\n",
        "# Plotting images and the lables from training videos\n",
        "# \"\"\"\n",
        "# image_list = []\n",
        "# training_labels = []\n",
        "# for vdo in train[\"vdo\"][np.random.randint(0,1000,5)]:\n",
        "#   image, label = get_frames_for_video(vdo)\n",
        "#   image_list.append(image)\n",
        "#   training_labels.append(label)\n",
        "# plot_images(image_list, training_labels)\n"
      ],
      "metadata": {
        "colab": {
          "base_uri": "https://localhost:8080/",
          "height": 35
        },
        "id": "2pCky5UtJYpL",
        "outputId": "deb5829c-d815-4913-eec6-60e6b02ddef9"
      },
      "execution_count": null,
      "outputs": [
        {
          "output_type": "execute_result",
          "data": {
            "text/plain": [
              "'\\nPlotting images and the lables from training videos\\n'"
            ],
            "application/vnd.google.colaboratory.intrinsic+json": {
              "type": "string"
            }
          },
          "metadata": {},
          "execution_count": 38
        }
      ]
    },
    {
      "cell_type": "code",
      "source": [
        "# \"\"\" Call to the load_videos\"\"\"\n",
        "# def get_frames(num_videos = 5):\n",
        "#   \"\"\"\n",
        "#   This method accepts the number of videos to call load_vidoes for and get the frames for videos\n",
        "#   and returns a list of images with their frames and the training labels\n",
        "#   \"\"\"\n",
        "#   image_list = []\n",
        "#   training_label = []\n",
        "#   for vdo in train[\"vdo\"][np.random.randint(0,1000,num_videos)]: # Any random 5 videos\n",
        "#     # Call to load_videos\n",
        "#     img = load_videos(os.path.join(base_path,vdo)) \n",
        "#     image_list.append(img)\n",
        "#     training_label.append(train.loc[train.vdo == vdo,'class'].item())\n",
        "#   return image_list, training_label"
      ],
      "metadata": {
        "id": "vQT148jc7-uH"
      },
      "execution_count": null,
      "outputs": []
    },
    {
      "cell_type": "code",
      "source": [
        "\"\"\"\n",
        "Populate  Images from Train and test Videos in different folders\n",
        "\"\"\"\n",
        "for vdo in train[\"vdo\"]:\n",
        "  print(vdo)"
      ],
      "metadata": {
        "id": "c5nGAKtIIU-X"
      },
      "execution_count": null,
      "outputs": []
    },
    {
      "cell_type": "code",
      "source": [
        "\n",
        "# def load_videos(data_dir):\n",
        "#   label_index = 0\n",
        "#   labels = []\n",
        "#   images = []\n",
        "\n",
        "#   for folder in data_dir:\n",
        "#     # print(\"folder: \", folder )\n",
        "#     for video in tqdm(os.listdir(folder)):\n",
        "      \n",
        "#       video_path = os.path.join(folder, video)\n",
        "#       # print(\"video_path:\", video_path)\n",
        "#       frames_list = images_from_video(video_path)\n",
        "#       print(f\"Video: {video}, Frames: {len(frames_list)}\")\n",
        "#       images.append(frames_list)\n",
        "#       labels.append(label_index)\n",
        "#     label_index += 1\n",
        "\n",
        "#   return np.array(images), np.array(labels, dtype = 'int8')\n"
      ],
      "metadata": {
        "id": "GG4GPSKJjK4a"
      },
      "execution_count": null,
      "outputs": []
    },
    {
      "cell_type": "code",
      "source": [
        "# images, labels = load_videos(videos_path[1:2])"
      ],
      "metadata": {
        "id": "TP7yVQo8r-Xl"
      },
      "execution_count": null,
      "outputs": []
    },
    {
      "cell_type": "code",
      "source": [
        "# load_videos(os.path.join(base_path,\"ApplyLipstick/v_ApplyLipstick_g02_c02.avi\"))"
      ],
      "metadata": {
        "id": "iIFrzBIC-blI"
      },
      "execution_count": null,
      "outputs": []
    },
    {
      "cell_type": "code",
      "source": [
        "# labels = []\n",
        "# videos_path = []\n",
        "# for label in os.listdir(base_path):\n",
        "#   labels.append(label)\n",
        "#   videos_path.append(base_path+'/'+label+'/')\n",
        "# labels.sort()\n",
        "# videos_path.sort()"
      ],
      "metadata": {
        "id": "IMJw9bktwwTz"
      },
      "execution_count": null,
      "outputs": []
    },
    {
      "cell_type": "code",
      "source": [
        "# rec = cv2.VideoCapture(\"/content/drive/MyDrive/UCF-101/ApplyLipstick/v_ApplyLipstick_g02_c02.avi\")"
      ],
      "metadata": {
        "id": "xwHyerqEwxOP"
      },
      "execution_count": null,
      "outputs": []
    },
    {
      "cell_type": "code",
      "source": [
        "# rec.get(cv2.CAP_PROP_FRAME_COUNT)"
      ],
      "metadata": {
        "id": "EmmKaOyCxwZN"
      },
      "execution_count": null,
      "outputs": []
    },
    {
      "cell_type": "code",
      "source": [
        "# rec.set(cv2.CAP_PROP_POS_FRAMES, 8 * 10)"
      ],
      "metadata": {
        "id": "eqHCZXrOz6_2"
      },
      "execution_count": null,
      "outputs": []
    },
    {
      "cell_type": "code",
      "source": [
        "# rec.read()[0]"
      ],
      "metadata": {
        "id": "eNTwEarYVOAc"
      },
      "execution_count": null,
      "outputs": []
    },
    {
      "cell_type": "code",
      "source": [
        "# pix = cv2.resize(rec.read()[1], (240,240))"
      ],
      "metadata": {
        "id": "YwZubYbGjaLp"
      },
      "execution_count": null,
      "outputs": []
    },
    {
      "cell_type": "code",
      "source": [],
      "metadata": {
        "id": "I1yPsE6Q07s9"
      },
      "execution_count": null,
      "outputs": []
    },
    {
      "cell_type": "code",
      "source": [
        "# from matplotlib import pyplot as plt\n",
        "# plt.imshow(pix, interpolation='nearest')\n",
        "# plt.show()\n"
      ],
      "metadata": {
        "id": "A9165W4MnKZE"
      },
      "execution_count": null,
      "outputs": []
    },
    {
      "cell_type": "code",
      "source": [],
      "metadata": {
        "id": "1jh9u8HLqgqt"
      },
      "execution_count": null,
      "outputs": []
    }
  ]
}